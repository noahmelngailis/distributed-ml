{
 "cells": [
  {
   "cell_type": "code",
   "execution_count": null,
   "metadata": {},
   "outputs": [],
   "source": [
    "import pandas as pd\n",
    "\n",
    "from pyspark.sql import SparkSession\n",
    "from pyspark.sql.functions import *\n",
    "\n",
    "import re"
   ]
  },
  {
   "cell_type": "code",
   "execution_count": 2,
   "metadata": {},
   "outputs": [],
   "source": [
    "spark = SparkSession.builder.getOrCreate()"
   ]
  },
  {
   "cell_type": "code",
   "execution_count": 3,
   "metadata": {},
   "outputs": [
    {
     "data": {
      "text/html": [
       "\n",
       "            <div>\n",
       "                <p><b>SparkSession - in-memory</b></p>\n",
       "                \n",
       "        <div>\n",
       "            <p><b>SparkContext</b></p>\n",
       "\n",
       "            <p><a href=\"http://noahs-air.lan:4040\">Spark UI</a></p>\n",
       "\n",
       "            <dl>\n",
       "              <dt>Version</dt>\n",
       "                <dd><code>v2.4.5</code></dd>\n",
       "              <dt>Master</dt>\n",
       "                <dd><code>local[*]</code></dd>\n",
       "              <dt>AppName</dt>\n",
       "                <dd><code>pyspark-shell</code></dd>\n",
       "            </dl>\n",
       "        </div>\n",
       "        \n",
       "            </div>\n",
       "        "
      ],
      "text/plain": [
       "<pyspark.sql.session.SparkSession at 0x1136f2f90>"
      ]
     },
     "execution_count": 3,
     "metadata": {},
     "output_type": "execute_result"
    }
   ],
   "source": [
    "spark"
   ]
  },
  {
   "cell_type": "markdown",
   "metadata": {},
   "source": [
    "1. Read the case, department, and source data into their own spark dataframes."
   ]
  },
  {
   "cell_type": "code",
   "execution_count": 123,
   "metadata": {},
   "outputs": [],
   "source": [
    "df = spark.read.csv('data/case.csv', header=True)"
   ]
  },
  {
   "cell_type": "code",
   "execution_count": 5,
   "metadata": {},
   "outputs": [],
   "source": [
    "dept = spark.read.csv('data/dept.csv', header=True)"
   ]
  },
  {
   "cell_type": "code",
   "execution_count": 6,
   "metadata": {},
   "outputs": [],
   "source": [
    "source = spark.read.csv('data/source.csv', header=True)"
   ]
  },
  {
   "cell_type": "markdown",
   "metadata": {},
   "source": [
    "2. Let's see how writing to the local disk works in spark:\n",
    "\n",
    "\n",
    "- Write the code necessary to store the source data in both csv and json format, store these as sources_csv and sources_json\n",
    "- Inspect your folder structure. What do you notice?\n",
    "    > \"\"\"not saved with file extentions?\"\"\""
   ]
  },
  {
   "cell_type": "code",
   "execution_count": 7,
   "metadata": {},
   "outputs": [],
   "source": [
    "source.write.csv('data/sources_csv', mode = 'overwrite')"
   ]
  },
  {
   "cell_type": "code",
   "execution_count": 8,
   "metadata": {},
   "outputs": [],
   "source": [
    "source.write.json('data/sources_json', mode = 'overwrite')"
   ]
  },
  {
   "cell_type": "markdown",
   "metadata": {},
   "source": [
    "3. Inspect the data in your dataframes. Are the data types appropriate? Write the code necessary to cast the values to the appropriate types."
   ]
  },
  {
   "cell_type": "code",
   "execution_count": 9,
   "metadata": {},
   "outputs": [
    {
     "name": "stdout",
     "output_type": "stream",
     "text": [
      "root\n",
      " |-- source_id: string (nullable = true)\n",
      " |-- source_username: string (nullable = true)\n",
      "\n"
     ]
    }
   ],
   "source": [
    "source.printSchema()"
   ]
  },
  {
   "cell_type": "code",
   "execution_count": 10,
   "metadata": {},
   "outputs": [
    {
     "name": "stdout",
     "output_type": "stream",
     "text": [
      "root\n",
      " |-- dept_division: string (nullable = true)\n",
      " |-- dept_name: string (nullable = true)\n",
      " |-- standardized_dept_name: string (nullable = true)\n",
      " |-- dept_subject_to_SLA: string (nullable = true)\n",
      "\n"
     ]
    }
   ],
   "source": [
    "dept.printSchema()"
   ]
  },
  {
   "cell_type": "code",
   "execution_count": 11,
   "metadata": {},
   "outputs": [
    {
     "name": "stdout",
     "output_type": "stream",
     "text": [
      "root\n",
      " |-- case_id: string (nullable = true)\n",
      " |-- case_opened_date: string (nullable = true)\n",
      " |-- case_closed_date: string (nullable = true)\n",
      " |-- SLA_due_date: string (nullable = true)\n",
      " |-- case_late: string (nullable = true)\n",
      " |-- num_days_late: string (nullable = true)\n",
      " |-- case_closed: string (nullable = true)\n",
      " |-- dept_division: string (nullable = true)\n",
      " |-- service_request_type: string (nullable = true)\n",
      " |-- SLA_days: string (nullable = true)\n",
      " |-- case_status: string (nullable = true)\n",
      " |-- source_id: string (nullable = true)\n",
      " |-- request_address: string (nullable = true)\n",
      " |-- council_district: string (nullable = true)\n",
      "\n"
     ]
    }
   ],
   "source": [
    "df.printSchema()"
   ]
  },
  {
   "cell_type": "code",
   "execution_count": 15,
   "metadata": {},
   "outputs": [
    {
     "name": "stdout",
     "output_type": "stream",
     "text": [
      "-RECORD 0------------------------------------\n",
      " case_id              | 1014127332           \n",
      " case_opened_date     | 1/1/18 0:42          \n",
      " case_closed_date     | 1/1/18 12:29         \n",
      " SLA_due_date         | 9/26/20 0:42         \n",
      " case_late            | NO                   \n",
      " num_days_late        | -998.5087616000001   \n",
      " case_closed          | YES                  \n",
      " dept_division        | Field Operations     \n",
      " service_request_type | Stray Animal         \n",
      " SLA_days             | 999.0                \n",
      " case_status          | Closed               \n",
      " source_id            | svcCRMLS             \n",
      " request_address      | 2315  EL PASO ST,... \n",
      " council_district     | 5                    \n",
      "only showing top 1 row\n",
      "\n"
     ]
    }
   ],
   "source": [
    "df.show(1, vertical= True)"
   ]
  },
  {
   "cell_type": "code",
   "execution_count": 146,
   "metadata": {},
   "outputs": [],
   "source": [
    "# handle date times\n",
    "\n",
    "fmt = \"M/d/yy H:mm\"\n",
    "\n",
    "df = (\n",
    "    df.withColumn('case_opened_date', to_timestamp('case_opened_date', fmt))\n",
    "    .withColumn('case_closed_date', to_timestamp('case_closed_date', fmt))\n",
    "    .withColumn('SLA_due_date' , to_timestamp('SLA_due_date', fmt))\n",
    ")\n"
   ]
  },
  {
   "cell_type": "code",
   "execution_count": 147,
   "metadata": {},
   "outputs": [],
   "source": [
    "# handle booleans\n",
    "df = (\n",
    "df.withColumn('case_late', df.case_late == \"YES\")\n",
    "    .withColumn('case_closed', df.case_closed == \"YES\")\n",
    ")"
   ]
  },
  {
   "cell_type": "code",
   "execution_count": 148,
   "metadata": {},
   "outputs": [],
   "source": [
    "# handle numberical values\n",
    "\n",
    "df = (\n",
    " df.withColumn('num_days_late', df.num_days_late.cast(\"float\"))\n",
    "    .withColumn('SLA_days', df.SLA_days.cast(\"int\"))\n",
    ")"
   ]
  },
  {
   "cell_type": "code",
   "execution_count": 32,
   "metadata": {},
   "outputs": [
    {
     "name": "stdout",
     "output_type": "stream",
     "text": [
      "root\n",
      " |-- case_id: string (nullable = true)\n",
      " |-- case_opened_date: timestamp (nullable = true)\n",
      " |-- case_closed_date: timestamp (nullable = true)\n",
      " |-- SLA_due_date: timestamp (nullable = true)\n",
      " |-- case_late: boolean (nullable = true)\n",
      " |-- num_days_late: float (nullable = true)\n",
      " |-- case_closed: boolean (nullable = true)\n",
      " |-- dept_division: string (nullable = true)\n",
      " |-- service_request_type: string (nullable = true)\n",
      " |-- SLA_days: integer (nullable = true)\n",
      " |-- case_status: string (nullable = true)\n",
      " |-- source_id: string (nullable = true)\n",
      " |-- request_address: string (nullable = true)\n",
      " |-- council_district: string (nullable = true)\n",
      "\n"
     ]
    }
   ],
   "source": [
    "df.printSchema()"
   ]
  },
  {
   "cell_type": "markdown",
   "metadata": {},
   "source": [
    "1.  How old is the latest (in terms of days past SLA) currently open issue?"
   ]
  },
  {
   "cell_type": "code",
   "execution_count": 74,
   "metadata": {},
   "outputs": [
    {
     "name": "stdout",
     "output_type": "stream",
     "text": [
      "+-------------+\n",
      "|days_past_SLA|\n",
      "+-------------+\n",
      "|         1419|\n",
      "+-------------+\n",
      "only showing top 1 row\n",
      "\n"
     ]
    }
   ],
   "source": [
    "(\n",
    "    df.filter(df.case_closed == 'false')\n",
    "    .withColumn(\"days_past_SLA\", datediff(df.SLA_due_date, df.case_opened_date))\n",
    "    .select(col(\"days_past_SLA\"))\n",
    "    .sort(desc('days_past_SLA'))\n",
    ").show(1)"
   ]
  },
  {
   "cell_type": "markdown",
   "metadata": {},
   "source": [
    "1b.  How long has the oldest (in terms of days since opened) currently opened issue been open?"
   ]
  },
  {
   "cell_type": "code",
   "execution_count": 73,
   "metadata": {},
   "outputs": [
    {
     "name": "stdout",
     "output_type": "stream",
     "text": [
      "+-------------+\n",
      "|num_days_late|\n",
      "+-------------+\n",
      "|    348.64584|\n",
      "+-------------+\n",
      "only showing top 1 row\n",
      "\n"
     ]
    }
   ],
   "source": [
    "(\n",
    "    df.filter(df.case_closed == \"false\")\n",
    "    .select(df.num_days_late)\n",
    "    .sort(desc('num_days_late'))\n",
    "    .show(1)\n",
    ")"
   ]
  },
  {
   "cell_type": "markdown",
   "metadata": {},
   "source": [
    "2. How many Stray Animal cases are there?"
   ]
  },
  {
   "cell_type": "code",
   "execution_count": 81,
   "metadata": {},
   "outputs": [
    {
     "data": {
      "text/plain": [
       "26760"
      ]
     },
     "execution_count": 81,
     "metadata": {},
     "output_type": "execute_result"
    }
   ],
   "source": [
    "(\n",
    "    df.filter(col('service_request_type') == \"Stray Animal\")\n",
    "    \n",
    ").count()\n",
    "    "
   ]
  },
  {
   "cell_type": "markdown",
   "metadata": {},
   "source": [
    "3. How many service requests that are assigned to the Field Operations department (dept_division) are not classified as \"Officer Standby\" request type (service_request_type)?"
   ]
  },
  {
   "cell_type": "code",
   "execution_count": 87,
   "metadata": {},
   "outputs": [
    {
     "data": {
      "text/plain": [
       "113902"
      ]
     },
     "execution_count": 87,
     "metadata": {},
     "output_type": "execute_result"
    }
   ],
   "source": [
    "(\n",
    "df.filter(df.dept_division == 'Field Operations')\n",
    "    .filter(df.service_request_type != 'Officer Standby')\n",
    ").count()"
   ]
  },
  {
   "cell_type": "markdown",
   "metadata": {},
   "source": [
    "4. Convert the council_district column to a string column."
   ]
  },
  {
   "cell_type": "code",
   "execution_count": 97,
   "metadata": {},
   "outputs": [
    {
     "data": {
      "text/plain": [
       "DataFrame[case_id: string, case_opened_date: timestamp, case_closed_date: timestamp, SLA_due_date: timestamp, case_late: boolean, num_days_late: float, case_closed: boolean, dept_division: string, service_request_type: string, SLA_days: int, case_status: string, source_id: string, request_address: string, council_district: int]"
      ]
     },
     "execution_count": 97,
     "metadata": {},
     "output_type": "execute_result"
    }
   ],
   "source": [
    "# never turned into int, for obvious reasons, showed I can cast as int\n",
    "(\n",
    "    df.withColumn('council_district', df.council_district.cast('int') * 2)\n",
    ")"
   ]
  },
  {
   "cell_type": "markdown",
   "metadata": {},
   "source": [
    "5. Extract the year from the case_closed_date column."
   ]
  },
  {
   "cell_type": "code",
   "execution_count": 104,
   "metadata": {},
   "outputs": [
    {
     "name": "stdout",
     "output_type": "stream",
     "text": [
      "+-----------+\n",
      "|year_closed|\n",
      "+-----------+\n",
      "|       2018|\n",
      "|       2018|\n",
      "|       2018|\n",
      "|       2018|\n",
      "|       2018|\n",
      "|       2018|\n",
      "|       2018|\n",
      "|       2018|\n",
      "|       2018|\n",
      "|       2018|\n",
      "|       2018|\n",
      "|       2018|\n",
      "|       2018|\n",
      "|       2018|\n",
      "|       2018|\n",
      "|       2018|\n",
      "|       2018|\n",
      "|       2018|\n",
      "|       2018|\n",
      "|       2018|\n",
      "+-----------+\n",
      "only showing top 20 rows\n",
      "\n"
     ]
    }
   ],
   "source": [
    "df = df.withColumn('year_closed', year(df.case_closed_date))\n",
    "df.select('year_closed').show()"
   ]
  },
  {
   "cell_type": "markdown",
   "metadata": {},
   "source": [
    "6. Convert num_days_late from days to hours in new columns num_hours_late."
   ]
  },
  {
   "cell_type": "code",
   "execution_count": 108,
   "metadata": {},
   "outputs": [
    {
     "name": "stdout",
     "output_type": "stream",
     "text": [
      "+--------------+\n",
      "|num_hours_late|\n",
      "+--------------+\n",
      "|     -23964.21|\n",
      "|      -48.3025|\n",
      "|     -72.53611|\n",
      "|    -360.27554|\n",
      "|      8.931944|\n",
      "|     -713.8556|\n",
      "|    -352.96167|\n",
      "|     -352.9589|\n",
      "|     -352.9589|\n",
      "|    -352.95584|\n",
      "|    -352.95584|\n",
      "|    -352.95276|\n",
      "|       -352.95|\n",
      "|    -352.95276|\n",
      "|    -352.94974|\n",
      "|     -352.9414|\n",
      "|    -352.94415|\n",
      "|    -352.93832|\n",
      "|    -352.93832|\n",
      "|    -352.93555|\n",
      "+--------------+\n",
      "only showing top 20 rows\n",
      "\n"
     ]
    }
   ],
   "source": [
    "(\n",
    "    df.withColumn('num_hours_late', df.num_days_late*24)\n",
    "    .select('num_hours_late')\n",
    ").show()"
   ]
  },
  {
   "cell_type": "markdown",
   "metadata": {},
   "source": [
    "7. Join the case data with the source and department data."
   ]
  },
  {
   "cell_type": "code",
   "execution_count": 124,
   "metadata": {},
   "outputs": [],
   "source": [
    "df = (\n",
    "    df.join(dept, \"dept_division\", \"left\")\n",
    "    .join(source, \"source_id\", \"left\" )\n",
    "    .drop(dept.dept_name)\n",
    "    .drop(df.dept_division)\n",
    "    .drop(dept.dept_division)\n",
    "    .withColumnRenamed(\"standardized_dept_name\", \"department\")\n",
    "    .withColumn('dept_subject_to_SLA', col('dept_subject_to_SLA') == \"YES\")\n",
    ")"
   ]
  },
  {
   "cell_type": "markdown",
   "metadata": {},
   "source": [
    "8. Are there any cases that do not have a request source?"
   ]
  },
  {
   "cell_type": "code",
   "execution_count": 135,
   "metadata": {},
   "outputs": [
    {
     "name": "stdout",
     "output_type": "stream",
     "text": [
      "+------------+\n",
      "|sum(is_null)|\n",
      "+------------+\n",
      "|           0|\n",
      "+------------+\n",
      "\n"
     ]
    }
   ],
   "source": [
    "(\n",
    "    df.select(df.source_id.isNull()\n",
    "    .cast('int')\n",
    "    .alias('is_null'))\n",
    "    .agg(sum('is_null'))\n",
    ").show()"
   ]
  },
  {
   "cell_type": "markdown",
   "metadata": {},
   "source": [
    "9. What are the top 10 service request types in terms of number of requests?"
   ]
  },
  {
   "cell_type": "code",
   "execution_count": 141,
   "metadata": {},
   "outputs": [
    {
     "name": "stdout",
     "output_type": "stream",
     "text": [
      "+--------------------+-----+\n",
      "|service_request_type|count|\n",
      "+--------------------+-----+\n",
      "|           No Pickup|89210|\n",
      "|Overgrown Yard/Trash|66403|\n",
      "|        Bandit Signs|32968|\n",
      "|        Damaged Cart|31163|\n",
      "|Front Or Side Yar...|28920|\n",
      "|        Stray Animal|27361|\n",
      "|Aggressive Animal...|25492|\n",
      "|Cart Exchange Req...|22608|\n",
      "|Junk Vehicle On P...|21649|\n",
      "|     Pot Hole Repair|20827|\n",
      "+--------------------+-----+\n",
      "only showing top 10 rows\n",
      "\n"
     ]
    }
   ],
   "source": [
    "(\n",
    "    df.select('service_request_type')\n",
    "    .groupby(df.service_request_type)\n",
    "    .count()\n",
    "    .sort(desc('count'))\n",
    ").show(10)"
   ]
  },
  {
   "cell_type": "markdown",
   "metadata": {},
   "source": [
    "10. What are the top 10 service request types in terms of average days late?"
   ]
  },
  {
   "cell_type": "code",
   "execution_count": 156,
   "metadata": {},
   "outputs": [
    {
     "name": "stdout",
     "output_type": "stream",
     "text": [
      "+--------------------+------------------+\n",
      "|service_request_type|     avg_days_late|\n",
      "+--------------------+------------------+\n",
      "|Zoning: Recycle Yard|210.89202097690466|\n",
      "|  Zoning: Junk Yards|200.20517606225633|\n",
      "|Structure/Housing...|190.20707663367776|\n",
      "|Donation Containe...|171.09115328554248|\n",
      "|Storage of Used M...|163.96812765938895|\n",
      "|Labeling for Used...|162.43032836914062|\n",
      "|Record Keeping of...| 153.9972414289202|\n",
      "|Signage Requied f...|151.63867886861166|\n",
      "|Traffic Signal Gr...| 137.6458282470703|\n",
      "|License Requied U...|128.79828480311804|\n",
      "+--------------------+------------------+\n",
      "only showing top 10 rows\n",
      "\n"
     ]
    }
   ],
   "source": [
    "(\n",
    "    df.where('case_late')\n",
    "    .select('service_request_type', 'num_days_late')\n",
    "    .groupBy('service_request_type')\n",
    "    .agg(mean('num_days_late').alias('avg_days_late'))\n",
    "    .sort(desc('avg_days_late'))\n",
    ").show(10)"
   ]
  },
  {
   "cell_type": "code",
   "execution_count": 149,
   "metadata": {},
   "outputs": [
    {
     "name": "stdout",
     "output_type": "stream",
     "text": [
      "root\n",
      " |-- source_id: string (nullable = true)\n",
      " |-- case_id: string (nullable = true)\n",
      " |-- case_opened_date: timestamp (nullable = true)\n",
      " |-- case_closed_date: timestamp (nullable = true)\n",
      " |-- SLA_due_date: timestamp (nullable = true)\n",
      " |-- case_late: boolean (nullable = true)\n",
      " |-- num_days_late: float (nullable = true)\n",
      " |-- case_closed: boolean (nullable = true)\n",
      " |-- service_request_type: string (nullable = true)\n",
      " |-- SLA_days: integer (nullable = true)\n",
      " |-- case_status: string (nullable = true)\n",
      " |-- request_address: string (nullable = true)\n",
      " |-- council_district: string (nullable = true)\n",
      " |-- department: string (nullable = true)\n",
      " |-- dept_subject_to_SLA: boolean (nullable = true)\n",
      " |-- source_username: string (nullable = true)\n",
      "\n"
     ]
    }
   ],
   "source": [
    "df.printSchema()"
   ]
  },
  {
   "cell_type": "markdown",
   "metadata": {},
   "source": [
    "11. Does number of days late depend on department?"
   ]
  },
  {
   "cell_type": "code",
   "execution_count": 190,
   "metadata": {},
   "outputs": [
    {
     "name": "stdout",
     "output_type": "stream",
     "text": [
      "+------------------------+---------+--------------+\n",
      "|department              |days_late|num_cases_late|\n",
      "+------------------------+---------+--------------+\n",
      "|Metro Health            |6.5      |854           |\n",
      "|Solid Waste             |7.1      |33729         |\n",
      "|Trans & Cap Improvements|10.7     |5529          |\n",
      "|Parks & Recreation      |22.4     |3810          |\n",
      "|Animal Care Services    |23.4     |23751         |\n",
      "|DSD/Code Enforcement    |49.5     |26439         |\n",
      "|Customer Service        |88.2     |2035          |\n",
      "+------------------------+---------+--------------+\n",
      "\n"
     ]
    }
   ],
   "source": [
    "(\n",
    "df.where('case_late')\n",
    "    .groupBy('department')\n",
    "    .agg(mean('num_days_late').alias('days_late'), count('num_days_late').alias('num_cases_late'))\n",
    "    .sort('days_late')\n",
    "    .withColumn('days_late', round(col('days_late'), 1))\n",
    ").show(truncate=False)"
   ]
  },
  {
   "cell_type": "markdown",
   "metadata": {},
   "source": [
    "12. How do number of days late depend on department and request type"
   ]
  },
  {
   "cell_type": "code",
   "execution_count": 197,
   "metadata": {},
   "outputs": [
    {
     "name": "stdout",
     "output_type": "stream",
     "text": [
      "+--------------------+--------------------------------------------+---------+--------------+\n",
      "|department          |service_request_type                        |days_late|num_cases_late|\n",
      "+--------------------+--------------------------------------------+---------+--------------+\n",
      "|DSD/Code Enforcement|Zoning: Recycle Yard                        |273.6    |75            |\n",
      "|DSD/Code Enforcement|Zoning: Junk Yards                          |251.9    |146           |\n",
      "|DSD/Code Enforcement|Donation Container Enforcement              |201.7    |82            |\n",
      "|DSD/Code Enforcement|Structure/Housing Maintenance               |182.4    |30            |\n",
      "|DSD/Code Enforcement|Graffiti: Private Property (Corridors)      |175.1    |3             |\n",
      "|DSD/Code Enforcement|Storage of Used Mattress                    |164.0    |7             |\n",
      "|DSD/Code Enforcement|Labeling for Used Mattress                  |162.4    |7             |\n",
      "|DSD/Code Enforcement|Record Keeping of Used Mattresses           |154.0    |7             |\n",
      "|DSD/Code Enforcement|Signage Requied for Sale of Used Mattr      |151.6    |12            |\n",
      "|DSD/Code Enforcement|License Requied Used Mattress Sales         |128.8    |7             |\n",
      "|DSD/Code Enforcement|Vendors                                     |127.3    |103           |\n",
      "|DSD/Code Enforcement|Curbstoning                                 |121.8    |100           |\n",
      "|DSD/Code Enforcement|DSDB Ordered/Hold Harmless/Regular-ALL      |119.8    |40            |\n",
      "|DSD/Code Enforcement|CPS Energy Wood Poles                       |115.2    |1             |\n",
      "|DSD/Code Enforcement|Used Mattress Inspection                    |108.1    |16            |\n",
      "|DSD/Code Enforcement|DSDB Ordered/Hold Harmless/Regular: Main    |106.4    |86            |\n",
      "|DSD/Code Enforcement|DSDB Ordered/Hold Harmless/Regular: ASEC    |104.7    |41            |\n",
      "|DSD/Code Enforcement|Zoning: Mobile Homes                        |103.8    |5             |\n",
      "|DSD/Code Enforcement|Certificates of Occupancy                   |103.3    |91            |\n",
      "|DSD/Code Enforcement|Zoning: Setbacks                            |98.4     |80            |\n",
      "|DSD/Code Enforcement|Wasting Water (Leaks)                       |91.3     |4             |\n",
      "|DSD/Code Enforcement|Street Light New Development                |91.1     |16            |\n",
      "|DSD/Code Enforcement|Zoning: District Requirement                |89.3     |241           |\n",
      "|DSD/Code Enforcement|Permits Building                            |84.4     |1413          |\n",
      "|DSD/Code Enforcement|Vacant Lot: Over 12\"\"                       |82.1     |1             |\n",
      "|Customer Service    |Complaint                                   |81.5     |939           |\n",
      "|DSD/Code Enforcement|Low Hanging Limbs on Streets/Sidewalk       |78.6     |19            |\n",
      "|Parks & Recreation  |Major Park Improvement Install              |75.8     |17            |\n",
      "|DSD/Code Enforcement|Zoning: Outside Storage                     |74.2     |16            |\n",
      "|DSD/Code Enforcement|Dart Preliminary Inspection                 |74.0     |8             |\n",
      "|DSD/Code Enforcement|Dumpsters: Maintenance/Sanitation           |73.2     |38            |\n",
      "|DSD/Code Enforcement|Used/Scrap Tire Facility Periodic Inspection|72.9     |8             |\n",
      "|DSD/Code Enforcement|\"Vacant Lot-State (12\"\")\"                   |72.1     |2             |\n",
      "|Animal Care Services|Animal Permits Request                      |72.0     |1218          |\n",
      "|DSD/Code Enforcement|No Address Posted                           |72.0     |754           |\n",
      "|Animal Care Services|Public Nuisance(Own Animal)                 |71.2     |976           |\n",
      "|DSD/Code Enforcement|Zoning Business in Resident Area            |70.9     |90            |\n",
      "|DSD/Code Enforcement|Water No Services                           |69.5     |11            |\n",
      "|DSD/Code Enforcement|Discharge Into Pub. Waters/St               |69.3     |1             |\n",
      "|DSD/Code Enforcement|Zoning: Multi-Family In Single              |67.8     |42            |\n",
      "+--------------------+--------------------------------------------+---------+--------------+\n",
      "only showing top 40 rows\n",
      "\n"
     ]
    }
   ],
   "source": [
    "(\n",
    "    df.filter('case_closed')\n",
    "    .where('case_late')\n",
    "    .groupBy('department', 'service_request_type')\n",
    "    .agg(mean('num_days_late').alias('days_late'), count('num_days_late').alias('num_cases_late'))\n",
    "    .sort(desc('days_late'))\n",
    "    .withColumn('days_late', round(col('days_late'), 1))\n",
    ").show(40, truncate=False)"
   ]
  },
  {
   "cell_type": "code",
   "execution_count": null,
   "metadata": {},
   "outputs": [],
   "source": []
  }
 ],
 "metadata": {
  "kernelspec": {
   "display_name": "Python 3",
   "language": "python",
   "name": "python3"
  },
  "language_info": {
   "codemirror_mode": {
    "name": "ipython",
    "version": 3
   },
   "file_extension": ".py",
   "mimetype": "text/x-python",
   "name": "python",
   "nbconvert_exporter": "python",
   "pygments_lexer": "ipython3",
   "version": "3.7.4"
  }
 },
 "nbformat": 4,
 "nbformat_minor": 2
}
